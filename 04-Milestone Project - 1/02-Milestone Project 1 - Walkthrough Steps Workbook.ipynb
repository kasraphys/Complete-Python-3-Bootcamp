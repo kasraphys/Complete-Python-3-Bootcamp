{
 "cells": [
  {
   "cell_type": "markdown",
   "metadata": {},
   "source": [
    "# Milestone Project 1: Walkthrough Steps Workbook\n",
    "\n",
    "Below is a set of steps for you to follow to try to create the Tic Tac Toe Milestone Project game!"
   ]
  },
  {
   "cell_type": "markdown",
   "metadata": {},
   "source": [
    "#### Some suggested tools before you get started:\n",
    "To take input from a user:\n",
    "\n",
    "    player1 = input(\"Please pick a marker 'X' or 'O'\")\n",
    "    \n",
    "Note that input() takes in a string. If you need an integer value, use\n",
    "\n",
    "    position = int(input('Please enter a number'))\n",
    "    \n",
    "<br>To clear the screen between moves:\n",
    "\n",
    "    from IPython.display import clear_output\n",
    "    clear_output()\n",
    "    \n",
    "Note that clear_output() will only work in jupyter. To clear the screen in other IDEs, consider:\n",
    "\n",
    "    print('\\n'*100)\n",
    "    \n",
    "This scrolls the previous board up out of view. Now on to the program!"
   ]
  },
  {
   "cell_type": "markdown",
   "metadata": {},
   "source": [
    "**Step 1: Write a function that can print out a board. Set up your board as a list, where each index 1-9 corresponds with a number on a number pad, so you get a 3 by 3 board representation.**"
   ]
  },
  {
   "cell_type": "code",
   "execution_count": 14,
   "metadata": {},
   "outputs": [],
   "source": [
    "from IPython.display import clear_output\n",
    "\n",
    "def display_board(board):\n",
    "    wh_spc = ' '\n",
    "    dashl = '_'*10\n",
    "    num_list = ['#',1,2,3,4,5,6,7,8,9]\n",
    "    \n",
    "    for m in range (1,len(board)):\n",
    "        num_list[m] = board[m]\n",
    "    \n",
    "    print (f' {wh_spc:^10} | {wh_spc:^10} | {wh_spc:^10}')\n",
    "    print (f' {num_list[7]:^10} | {num_list[8]:^10} | {num_list[9]:^10}')\n",
    "    print (f' {dashl:^10} | {dashl:^10} | {dashl:^10}')\n",
    "    print (f' {wh_spc:^10} | {wh_spc:^10} | {wh_spc:^10}')\n",
    "    print (f' {num_list[4]:^10} | {num_list[5]:^10} | {num_list[6]:^10}')\n",
    "    print (f' {dashl:^10} | {dashl:^10} | {dashl:^10}')\n",
    "    print (f' {wh_spc:^10} | {wh_spc:^10} | {wh_spc:^10}')\n",
    "    print (f' {num_list[1]:^10} | {num_list[2]:^10} | {num_list[3]:^10}')\n",
    "    print (f' {wh_spc:^10} | {wh_spc:^10} | {wh_spc:^10}')"
   ]
  },
  {
   "cell_type": "markdown",
   "metadata": {},
   "source": [
    "**TEST Step 1:** run your function on a test version of the board list, and make adjustments as necessary"
   ]
  },
  {
   "cell_type": "code",
   "execution_count": 15,
   "metadata": {},
   "outputs": [
    {
     "name": "stdout",
     "output_type": "stream",
     "text": [
      "            |            |           \n",
      "     X      |     O      |     X     \n",
      " __________ | __________ | __________\n",
      "            |            |           \n",
      "     O      |     X      |     O     \n",
      " __________ | __________ | __________\n",
      "            |            |           \n",
      "     X      |     O      |     X     \n",
      "            |            |           \n"
     ]
    }
   ],
   "source": [
    "test_board = ['#','X','O','X','O','X','O','X','O','X']\n",
    "display_board(test_board)"
   ]
  },
  {
   "cell_type": "code",
   "execution_count": 16,
   "metadata": {},
   "outputs": [
    {
     "name": "stdout",
     "output_type": "stream",
     "text": [
      "            |            |           \n",
      "     7      |     8      |     9     \n",
      " __________ | __________ | __________\n",
      "            |            |           \n",
      "     4      |     5      |     6     \n",
      " __________ | __________ | __________\n",
      "            |            |           \n",
      "     X      |     O      |     3     \n",
      "            |            |           \n"
     ]
    }
   ],
   "source": [
    "test_board2 = ['#','X','O']\n",
    "display_board(test_board2)"
   ]
  },
  {
   "cell_type": "markdown",
   "metadata": {},
   "source": [
    "✔**Step 2: Write a function that can take in a player input and assign their marker as 'X' or 'O'. Think about using *while* loops to continually ask until you get a correct answer.**"
   ]
  },
  {
   "cell_type": "code",
   "execution_count": 17,
   "metadata": {},
   "outputs": [],
   "source": [
    "def player_input():\n",
    "    \n",
    "    player1 = ''\n",
    "    while player1 != 'O' and player1 != 'X':\n",
    "        player1 = input(\"Please choose a marker 'X' or 'O'\").upper()\n",
    "    \n",
    "    return player1\n"
   ]
  },
  {
   "cell_type": "markdown",
   "metadata": {},
   "source": [
    "**TEST Step 2:** run the function to make sure it returns the desired output"
   ]
  },
  {
   "cell_type": "code",
   "execution_count": 18,
   "metadata": {},
   "outputs": [
    {
     "name": "stdout",
     "output_type": "stream",
     "text": [
      "Please choose a marker 'X' or 'O'x\n"
     ]
    },
    {
     "data": {
      "text/plain": [
       "'X'"
      ]
     },
     "execution_count": 18,
     "metadata": {},
     "output_type": "execute_result"
    }
   ],
   "source": [
    "player_input()"
   ]
  },
  {
   "cell_type": "markdown",
   "metadata": {},
   "source": [
    "**Step 3: Write a function that takes in the board list object, a marker ('X' or 'O'), and a desired position (number 1-9) and assigns it to the board.**"
   ]
  },
  {
   "cell_type": "code",
   "execution_count": 19,
   "metadata": {},
   "outputs": [],
   "source": [
    "def place_marker(board, marker, position):\n",
    "    \n",
    "    board [position] = marker"
   ]
  },
  {
   "cell_type": "markdown",
   "metadata": {},
   "source": [
    "**TEST Step 3:** run the place marker function using test parameters and display the modified board"
   ]
  },
  {
   "cell_type": "code",
   "execution_count": 20,
   "metadata": {},
   "outputs": [
    {
     "name": "stdout",
     "output_type": "stream",
     "text": [
      "            |            |           \n",
      "     X      |     $      |     X     \n",
      " __________ | __________ | __________\n",
      "            |            |           \n",
      "     O      |     X      |     O     \n",
      " __________ | __________ | __________\n",
      "            |            |           \n",
      "     X      |     O      |     X     \n",
      "            |            |           \n"
     ]
    }
   ],
   "source": [
    "place_marker(test_board,'$',8)\n",
    "display_board(test_board)"
   ]
  },
  {
   "cell_type": "code",
   "execution_count": 21,
   "metadata": {},
   "outputs": [
    {
     "data": {
      "text/plain": [
       "['#', 'X', 'O', 'X', 'O', 'X', 'O', 'X', '$', 'X']"
      ]
     },
     "execution_count": 21,
     "metadata": {},
     "output_type": "execute_result"
    }
   ],
   "source": [
    "test_board"
   ]
  },
  {
   "cell_type": "code",
   "execution_count": 22,
   "metadata": {},
   "outputs": [
    {
     "data": {
      "text/plain": [
       "['#', 1, 2, 'X', 4, 5, 'X', 7, 8, 'X']"
      ]
     },
     "execution_count": 22,
     "metadata": {},
     "output_type": "execute_result"
    }
   ],
   "source": [
    "test_board3 = ['#', 1, 2, 'X', 4, 5, 'X', 7, 8, 'X']\n",
    "test_board3"
   ]
  },
  {
   "cell_type": "code",
   "execution_count": 24,
   "metadata": {
    "scrolled": true
   },
   "outputs": [
    {
     "name": "stdout",
     "output_type": "stream",
     "text": [
      "            |            |           \n",
      "     7      |     8      |     X     \n",
      " __________ | __________ | __________\n",
      "            |            |           \n",
      "     4      |     5      |     X     \n",
      " __________ | __________ | __________\n",
      "            |            |           \n",
      "     1      |     2      |     X     \n",
      "            |            |           \n"
     ]
    }
   ],
   "source": [
    "display_board(test_board3)"
   ]
  },
  {
   "cell_type": "markdown",
   "metadata": {},
   "source": [
    "**STEP 4:**  Write a function that takes in a board and a mark (X or O) and then checks to see if that mark has won."
   ]
  },
  {
   "cell_type": "code",
   "execution_count": 25,
   "metadata": {},
   "outputs": [],
   "source": [
    "def win_check(board, mark):\n",
    "    \n",
    "    if (board[1] == board[2] == board[3] == mark) or (board[4] == board[5] == board[6] == mark) or (board[7] == board[8] == board[9] == mark):\n",
    "        return True\n",
    "    if (board[1] == board[4] == board[7] == mark) or (board[2] == board[5] == board[8] == mark) or ( board[3] == board[6] == board[9] == mark):\n",
    "        return True\n",
    "    if (board[1] == board[5] == board[9] == mark) or (board[3] == board[5] == board[7] == mark):\n",
    "        return True\n",
    "    \n",
    "    return False\n"
   ]
  },
  {
   "cell_type": "markdown",
   "metadata": {},
   "source": [
    "**TEST Step 4:** run the win_check function against our test_board - it should return True"
   ]
  },
  {
   "cell_type": "code",
   "execution_count": 26,
   "metadata": {
    "scrolled": true
   },
   "outputs": [
    {
     "data": {
      "text/plain": [
       "True"
      ]
     },
     "execution_count": 26,
     "metadata": {},
     "output_type": "execute_result"
    }
   ],
   "source": [
    "win_check(test_board,'X')"
   ]
  },
  {
   "cell_type": "code",
   "execution_count": 29,
   "metadata": {},
   "outputs": [
    {
     "name": "stdout",
     "output_type": "stream",
     "text": [
      "            |            |           \n",
      "     7      |     8      |     X     \n",
      " __________ | __________ | __________\n",
      "            |            |           \n",
      "     4      |     5      |     X     \n",
      " __________ | __________ | __________\n",
      "            |            |           \n",
      "     1      |     2      |     X     \n",
      "            |            |           \n"
     ]
    },
    {
     "data": {
      "text/plain": [
       "True"
      ]
     },
     "execution_count": 29,
     "metadata": {},
     "output_type": "execute_result"
    }
   ],
   "source": [
    "display_board(test_board3)\n",
    "win_check(test_board3,'X')"
   ]
  },
  {
   "cell_type": "markdown",
   "metadata": {},
   "source": [
    "✔**Step 5: Write a function that uses the random module to randomly decide which player goes first. You may want to lookup random.randint() Return a string of which player went first.**"
   ]
  },
  {
   "cell_type": "code",
   "execution_count": 114,
   "metadata": {},
   "outputs": [],
   "source": [
    "import random\n",
    "\n",
    "def choose_first():\n",
    "    player_turn = random.randint(1,2)\n",
    "    print(f'Player-{player_turn} goes first!')\n",
    "    return player_turn"
   ]
  },
  {
   "cell_type": "code",
   "execution_count": 119,
   "metadata": {},
   "outputs": [
    {
     "name": "stdout",
     "output_type": "stream",
     "text": [
      "Player-1 goes first!\n"
     ]
    },
    {
     "data": {
      "text/plain": [
       "1"
      ]
     },
     "execution_count": 119,
     "metadata": {},
     "output_type": "execute_result"
    }
   ],
   "source": [
    "a = choose_first()\n",
    "a"
   ]
  },
  {
   "cell_type": "markdown",
   "metadata": {},
   "source": [
    "✔**Step 6: Write a function that returns a boolean indicating whether a space on the board is freely available.**"
   ]
  },
  {
   "cell_type": "code",
   "execution_count": 76,
   "metadata": {},
   "outputs": [],
   "source": [
    "def space_check(board, position):\n",
    "    return board[position] != 'X' and board[position] != 'O' and board[position] != '#'"
   ]
  },
  {
   "cell_type": "code",
   "execution_count": 77,
   "metadata": {},
   "outputs": [
    {
     "data": {
      "text/plain": [
       "False"
      ]
     },
     "execution_count": 77,
     "metadata": {},
     "output_type": "execute_result"
    }
   ],
   "source": [
    "space_check(test_board3,3)"
   ]
  },
  {
   "cell_type": "markdown",
   "metadata": {},
   "source": [
    "✔**Step 7: Write a function that checks if the board is full and returns a boolean value. True if full, False otherwise.**"
   ]
  },
  {
   "cell_type": "code",
   "execution_count": 78,
   "metadata": {},
   "outputs": [],
   "source": [
    "def full_board_check(board):\n",
    "    \n",
    "    for elem in board:\n",
    "        if type(elem) is int:\n",
    "            return False\n",
    "    else:\n",
    "        return True"
   ]
  },
  {
   "cell_type": "code",
   "execution_count": 117,
   "metadata": {},
   "outputs": [
    {
     "data": {
      "text/plain": [
       "True"
      ]
     },
     "execution_count": 117,
     "metadata": {},
     "output_type": "execute_result"
    }
   ],
   "source": [
    "full_board_check(test_board)"
   ]
  },
  {
   "cell_type": "markdown",
   "metadata": {},
   "source": [
    "✔**Step 8: Write a function that asks for a player's next position (as a number 1-9) and then uses the function from step 6 to check if it's a free position. If it is, then return the position for later use.**"
   ]
  },
  {
   "cell_type": "code",
   "execution_count": 89,
   "metadata": {},
   "outputs": [],
   "source": [
    "def player_choice(board):\n",
    "    \n",
    "    nxt_pos = 0\n",
    "    \n",
    "    while (not space_check(board,nxt_pos)):\n",
    "        nxt_pos = int(input('Pick your next position (1-9):'))\n",
    "        \n",
    "        if not space_check(board,nxt_pos):\n",
    "            print(f'SOOOORRY Space {nxt_pos} is already taken! \\n')\n",
    "            \n",
    "    else:\n",
    "        return nxt_pos"
   ]
  },
  {
   "cell_type": "code",
   "execution_count": 113,
   "metadata": {},
   "outputs": [
    {
     "name": "stdout",
     "output_type": "stream",
     "text": [
      "Pick your next position (1-9):3\n",
      "SOOOORRY Space 3 is already taken! \n",
      "\n",
      "Pick your next position (1-9):2\n"
     ]
    },
    {
     "data": {
      "text/plain": [
       "2"
      ]
     },
     "execution_count": 113,
     "metadata": {},
     "output_type": "execute_result"
    }
   ],
   "source": [
    "a = player_choice(test_board3)\n",
    "a"
   ]
  },
  {
   "cell_type": "markdown",
   "metadata": {},
   "source": [
    "✔**Step 9: Write a function that asks the player if they want to play again and returns a boolean True if they do want to play again.**"
   ]
  },
  {
   "cell_type": "code",
   "execution_count": 98,
   "metadata": {},
   "outputs": [],
   "source": [
    "def replay():\n",
    "    \n",
    "    answer = input('Would you like to play again? (Y/N)').upper()\n",
    "    return answer == 'Y'"
   ]
  },
  {
   "cell_type": "code",
   "execution_count": 99,
   "metadata": {},
   "outputs": [
    {
     "name": "stdout",
     "output_type": "stream",
     "text": [
      "Would you like to play again? (Y/N)y\n"
     ]
    },
    {
     "data": {
      "text/plain": [
       "True"
      ]
     },
     "execution_count": 99,
     "metadata": {},
     "output_type": "execute_result"
    }
   ],
   "source": [
    "replay()"
   ]
  },
  {
   "cell_type": "markdown",
   "metadata": {
    "collapsed": true
   },
   "source": [
    "**Step 10: Here comes the hard part! Use while loops and the functions you've made to run the game!**"
   ]
  },
  {
   "cell_type": "code",
   "execution_count": 138,
   "metadata": {},
   "outputs": [
    {
     "name": "stdout",
     "output_type": "stream",
     "text": [
      "            |            |           \n",
      "     X      |     O      |     9     \n",
      " __________ | __________ | __________\n",
      "            |            |           \n",
      "     X      |     O      |     6     \n",
      " __________ | __________ | __________\n",
      "            |            |           \n",
      "     1      |     O      |     3     \n",
      "            |            |           \n",
      "Player 1 won the game!\n",
      "Would you like to play again? (Y/N)\n"
     ]
    }
   ],
   "source": [
    "\n",
    "print('Welcome to Tic Tac Toe!')\n",
    "\n",
    "\n",
    "while True:\n",
    "    \n",
    "\n",
    "    #Variables to be used during the game\n",
    "    game_board = ['#',1,2,3,4,5,6,7,8,9]\n",
    "    p2_marker = ''\n",
    "    game_on = True\n",
    "    play_turn = 0\n",
    "    \n",
    "    #display the board\n",
    "    from IPython.display import clear_output\n",
    "    clear_output()\n",
    "    display_board(game_board)\n",
    "    \n",
    "    \n",
    "    # Take in the player markers\n",
    "    p1_marker = player_input()\n",
    "    \n",
    "    if p1_marker == 'X':\n",
    "        p2_marker = 'O'\n",
    "    else:\n",
    "        p2_marker = 'X'\n",
    "    \n",
    "    print(p1_marker, p2_marker)\n",
    "    \n",
    "    marker_ref = ['#',['Player 1', p1_marker],['Player 2', p2_marker]]\n",
    "        \n",
    "    go_first = choose_first()\n",
    "    \n",
    "    if go_first == 1:\n",
    "        go_second = 2\n",
    "    else:\n",
    "        go_second = 1\n",
    "    \n",
    "    \n",
    "    \n",
    "    ### Beginning of the game\n",
    "    while game_on:\n",
    "        \n",
    "        #player1's turn\n",
    "        p1_pos = player_choice(game_board)\n",
    "        place_marker(game_board,marker_ref[go_first][1],p1_pos)\n",
    "        clear_output()\n",
    "        display_board(game_board)\n",
    "        \n",
    "        #check for winner\n",
    "        if win_check(game_board,marker_ref[go_first][1]):\n",
    "            print(f\"{marker_ref[go_first][0]} won the game!\")\n",
    "            break\n",
    "        \n",
    "        #check for full borad\n",
    "        if full_board_check(game_board):\n",
    "            print(\"GAME OVER!\")\n",
    "            break\n",
    "        \n",
    "        \n",
    "        \n",
    "        # Player2's turn.\n",
    "        p2_pos = player_choice(game_board)\n",
    "        place_marker(game_board,marker_ref[go_second][1],p2_pos)\n",
    "        clear_output()\n",
    "        display_board(game_board)\n",
    "        \n",
    "        #check for winner\n",
    "        if win_check(game_board,marker_ref[go_second][1]):\n",
    "            print(f\"{marker_ref[go_second][0]} won the game!\")\n",
    "            break\n",
    "        \n",
    "        #check for full borad\n",
    "        if full_board_check(game_board):\n",
    "            print(\"GAME OVER!\")\n",
    "            break\n",
    "        \n",
    "        \n",
    "\n",
    "    if not replay():\n",
    "        break"
   ]
  },
  {
   "cell_type": "markdown",
   "metadata": {
    "collapsed": true
   },
   "source": [
    "## Good Job!"
   ]
  }
 ],
 "metadata": {
  "kernelspec": {
   "display_name": "Python 3",
   "language": "python",
   "name": "python3"
  },
  "language_info": {
   "codemirror_mode": {
    "name": "ipython",
    "version": 3
   },
   "file_extension": ".py",
   "mimetype": "text/x-python",
   "name": "python",
   "nbconvert_exporter": "python",
   "pygments_lexer": "ipython3",
   "version": "3.7.1"
  }
 },
 "nbformat": 4,
 "nbformat_minor": 1
}
